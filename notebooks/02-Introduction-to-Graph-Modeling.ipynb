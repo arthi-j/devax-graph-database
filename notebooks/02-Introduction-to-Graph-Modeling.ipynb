{
 "cells": [
  {
   "cell_type": "markdown",
   "metadata": {},
   "source": [
    "# DevAx: Introduction to Graph Modeling\n",
    "\n",
    "\n",
    "## Use case 1\n",
    "\n",
    "**Which companies has X worked for, and in what roles?**\n",
    "![Use case 1](usecase1.png)\n",
    "\n",
    "Let us create some sample data first.\n",
    "\n",
    "### Dataset\n",
    "![usecase 2 dataset.png](usecase1-dataset.png)\n"
   ]
  },
  {
   "cell_type": "code",
   "execution_count": null,
   "metadata": {},
   "outputs": [],
   "source": [
    "%%gremlin\n",
    "g.\n",
    "   addV('Person').property(id,'p-1').property('firstName','Martha').property('lastName','Rivera').\n",
    "   addV('Person').property(id,'p-2').property('firstName','Richard').property('lastName','Roe').\n",
    "   addV('Person').property(id,'p-3').property('firstName','Li').property('lastName','Juan').\n",
    "   addV('Person').property(id,'p-4').property('firstName','John').property('lastName','Stiles').\n",
    "   addV('Person').property(id,'p-5').property('firstName','Saanvi').property('lastName','Sarkar').\n",
    "   addV('Company').property(id,'c-1').property('name','Example Corp').\n",
    "   addV('Company').property(id,'c-2').property('name','AnyCompany').\n",
    "   V('p-1').addE('WORKED_FOR').to(V('c-1')).property('role','Principal Analyst').                         \n",
    "   V('p-2').addE('WORKED_FOR').to(V('c-1')).property('role','Senior Analyst').                           \n",
    "   V('p-3').addE('WORKED_FOR').to(V('c-1')).property('role','Analyst').\n",
    "   V('p-4').addE('WORKED_FOR').to(V('c-1')).property('role','Analyst').                           \n",
    "   V('p-5').addE('WORKED_FOR').to(V('c-2')).property('role','Manager').\n",
    "   V('p-3').addE('WORKED_FOR').to(V('c-2')).property('role','Associate Analyst')"
   ]
  },
  {
   "cell_type": "markdown",
   "metadata": {},
   "source": [
    "### Querying the data\n",
    "\n",
    "#### Query 1 – Which companies has Li worked for, and in what roles?\n",
    "\n",
    "To answer this question, we'll have to perform the following steps:\n",
    "\n",
    "    1. Start at the Person vertex representing Li\n",
    "    2. Follow WORKED_FOR edges to find each Company for whom Li has worked\n",
    "    3. Select the Company details, and the role property of the relationship"
   ]
  },
  {
   "cell_type": "code",
   "execution_count": null,
   "metadata": {},
   "outputs": [],
   "source": [
    "%%gremlin -p v,oute,inv\n",
    "g.V('p-3').\n",
    "    outE('WORKED_FOR').\n",
    "    inV().\n",
    "    path().\n",
    "    by('firstName').by('role').by('name')"
   ]
  },
  {
   "cell_type": "markdown",
   "metadata": {},
   "source": [
    "## Use case 2\n",
    "\n",
    "**Who worked for company X, and at which locations, between Y1-Y2?**\n",
    "![Use case 2](usecase2.png)\n",
    "\n",
    "Let us first drop the graph we created for use case 1 and create some revised sample data."
   ]
  },
  {
   "cell_type": "code",
   "execution_count": null,
   "metadata": {},
   "outputs": [],
   "source": [
    "%%gremlin\n",
    "g.V().hasLabel('Person').drop()"
   ]
  },
  {
   "cell_type": "code",
   "execution_count": null,
   "metadata": {},
   "outputs": [],
   "source": [
    "%%gremlin\n",
    "g.V().hasLabel('Company').drop()"
   ]
  },
  {
   "cell_type": "markdown",
   "metadata": {},
   "source": [
    "### Dataset\n",
    "![Use case 2](usecase2-dataset.png)"
   ]
  },
  {
   "cell_type": "code",
   "execution_count": null,
   "metadata": {},
   "outputs": [],
   "source": [
    "%%gremlin\n",
    "g.\n",
    "   addV('Person').property(id,'p-1').property('firstName','Martha').property('lastName','Rivera').\n",
    "   addV('Person').property(id,'p-2').property('firstName','Richard').property('lastName','Roe').\n",
    "   addV('Person').property(id,'p-3').property('firstName','Li').property('lastName','Juan').\n",
    "   addV('Person').property(id,'p-4').property('firstName','John').property('lastName','Stiles').\n",
    "   addV('Person').property(id,'p-5').property('firstName','Saanvi').property('lastName','Sarkar').\n",
    "   addV('Company').property(id,'c-1').property('name','Example Corp').\n",
    "   addV('Company').property(id,'c-2').property('name','AnyCompany').\n",
    "   addV('Location').property(id,'l-1').property('name','HQ').property('address','100 Main St, Anytown').\n",
    "   addV('Location').property(id,'l-2').property('name','Offices').property('address','Downtown, Anytown').\n",
    "   addV('Location').property(id,'l-3').property('name','Exchange').property('address','50 High St, Anytown').\n",
    "   addV('Job').property(id,'j-1').property('from',datetime('2010-10-20T00:00:00')).property('to','2017-11-1 00:00:00').\n",
    "    property('role','Principal Analyst').\n",
    "   addV('Job').property(id,'j-2').property('from',datetime('2011-02-16T00:00:00')).property('to',datetime('2013-09-17T00:00:00')).\n",
    "    property('role','Senior Analyst').\n",
    "   addV('Job').property(id,'j-3').property('from',datetime('2013-11-21T00:00:00')).property('to',datetime('2016-03-23T00:00:00')).\n",
    "    property('role','Analyst').\n",
    "   addV('Job').property(id,'j-4').property('from',datetime('2015-02-02T00:00:00')).property('to',datetime('2018-02-08T00:00:00')).\n",
    "    property('role','Analyst').\n",
    "   addV('Job').property(id,'j-5').property('from',datetime('2011-07-15T00:00:00')).property('to',datetime('2017-10-14T00:00:00')).\n",
    "    property('role','Manager').\n",
    "   addV('Job').property(id,'j-6').property('from',datetime('2012-03-23T00:00:00')).property('to',datetime('2013-11-01T00:00:00')).\n",
    "    property('role','Associate Analyst').\n",
    "   V('c-1').addE('LOCATION').to(V('l-1')).\n",
    "   V('c-1').addE('LOCATION').to(V('l-2')).\n",
    "   V('c-2').addE('LOCATION').to(V('l-3')). \n",
    "   V('p-1').addE('JOB').to(V('j-1')).\n",
    "   V('j-1').addE('COMPANY').to(V('c-1')).\n",
    "   V('j-1').addE('LOCATION').to(V('l-1')).                            \n",
    "   V('p-2').addE('JOB').to(V('j-2')).\n",
    "   V('j-2').addE('COMPANY').to(V('c-1')).\n",
    "   V('j-2').addE('LOCATION').to(V('l-2')).                            \n",
    "   V('p-3').addE('JOB').to(V('j-3')).\n",
    "   V('j-3').addE('COMPANY').to(V('c-1')).\n",
    "   V('j-3').addE('LOCATION').to(V('l-1')).\n",
    "   V('p-4').addE('JOB').to(V('j-4')).\n",
    "   V('j-4').addE('COMPANY').to(V('c-1')).\n",
    "   V('j-4').addE('LOCATION').to(V('l-2')).                              \n",
    "   V('p-5').addE('JOB').to(V('j-5')).\n",
    "   V('j-5').addE('COMPANY').to(V('c-2')).\n",
    "   V('j-5').addE('LOCATION').to(V('l-3')).\n",
    "   V('p-3').addE('JOB').to(V('j-6')).\n",
    "   V('j-6').addE('COMPANY').to(V('c-2')).\n",
    "   V('j-6').addE('LOCATION').to(V('l-3'))"
   ]
  },
  {
   "cell_type": "markdown",
   "metadata": {},
   "source": [
    "### Querying the data\n",
    "\n",
    "#### Query 2 – Who worked for Example Corp, and at which locations, between 2015-2017?\n",
    "\n",
    "To answer this question, we'll have to perform the following steps:\n",
    "\n",
    "    1. Start at Company vertex\n",
    "    2. Traverse to Job vertices\n",
    "    3. Filter by date\n",
    "    4. Traverse to Person and Location vertices"
   ]
  },
  {
   "cell_type": "code",
   "execution_count": null,
   "metadata": {},
   "outputs": [],
   "source": [
    "%%gremlin -p v,inv,e\n",
    "g.V('c-1').\n",
    "    in('COMPANY').\n",
    "    or_(\n",
    "        has('from', between(datetime('2015-01-01'),datetime('2018-01-01'))),\n",
    "        has('to', between(datetime('2015-01-01'),datetime('2018-01-01')))\n",
    "    ).\n",
    "    bothE().\n",
    "    otherV().\n",
    "    not(cyclicPath()).\n",
    "    path()"
   ]
  },
  {
   "cell_type": "code",
   "execution_count": null,
   "metadata": {},
   "outputs": [],
   "source": [
    "%%gremlin -p v,inv,e\n",
    "g.V('c-1').\n",
    "    in('COMPANY').\n",
    "    or_(\n",
    "        has('from', between(datetime('2015-01-01'),datetime('2018-01-01'))),\n",
    "        has('to', between(datetime('2015-01-01'),datetime('2018-01-01')))\n",
    "    ).\n",
    "    project('person','location','job').\n",
    "    by(in('JOB').values('firstName','lastName').fold()).\n",
    "    by(out('LOCATION').values('name','address').fold()).\n",
    "    by('role')"
   ]
  },
  {
   "cell_type": "markdown",
   "metadata": {},
   "source": [
    "## Use case 3\n",
    "\n",
    "**Who were in senior roles at the company where X worked?**\n",
    "![Use case 3](usecase3.png)\n",
    "\n",
    "Again, let us first drop the graph we created for use case 2 and create some revised sample data."
   ]
  },
  {
   "cell_type": "code",
   "execution_count": null,
   "metadata": {},
   "outputs": [],
   "source": [
    "%%gremlin\n",
    "g.V().hasLabel('Person').drop()"
   ]
  },
  {
   "cell_type": "code",
   "execution_count": null,
   "metadata": {},
   "outputs": [],
   "source": [
    "%%gremlin\n",
    "g.V().hasLabel('Company').drop()"
   ]
  },
  {
   "cell_type": "code",
   "execution_count": null,
   "metadata": {},
   "outputs": [],
   "source": [
    "%%gremlin\n",
    "g.V().hasLabel('Location').drop()"
   ]
  },
  {
   "cell_type": "code",
   "execution_count": null,
   "metadata": {},
   "outputs": [],
   "source": [
    "%%gremlin\n",
    "g.V().hasLabel('Job').drop()"
   ]
  },
  {
   "cell_type": "markdown",
   "metadata": {},
   "source": [
    "### Dataset\n",
    "![Use case 3](usecase3-dataset.png)"
   ]
  },
  {
   "cell_type": "code",
   "execution_count": null,
   "metadata": {},
   "outputs": [],
   "source": [
    "%%gremlin\n",
    "g.\n",
    "   addV('Person').property(id,'p-1').property('firstName','Martha').property('lastName','Rivera').\n",
    "   addV('Person').property(id,'p-2').property('firstName','Richard').property('lastName','Roe').\n",
    "   addV('Person').property(id,'p-3').property('firstName','Li').property('lastName','Juan').\n",
    "   addV('Person').property(id,'p-4').property('firstName','John').property('lastName','Stiles').\n",
    "   addV('Person').property(id,'p-5').property('firstName','Saanvi').property('lastName','Sarkar').\n",
    "   addV('Role').property(id,'r-1').property('name','Analyst').\n",
    "   addV('Role').property(id,'r-2').property('name','Senior Analyst').\n",
    "   addV('Role').property(id,'r-3').property('name','Principal Analyst').\n",
    "   addV('Role').property(id,'r-4').property('name','Associate Analyst').\n",
    "   addV('Role').property(id,'r-5').property('name','Manager').\n",
    "   addV('Company').property(id,'c-1').property('name','Example Corp').\n",
    "   addV('Company').property(id,'c-2').property('name','AnyCompany').\n",
    "   addV('Location').property(id,'l-1').property('name','HQ').property('address','100 Main St, Anytown').\n",
    "   addV('Location').property(id,'l-2').property('name','Offices').property('address','Downtown, Anytown').\n",
    "   addV('Location').property(id,'l-3').property('name','Exchange').property('address','50 High St, Anytown').\n",
    "   addV('Job').property(id,'j-1').property('from',datetime('2010-10-20')).property('to',datetime('2017-11-01')).\n",
    "   addV('Job').property(id,'j-2').property('from',datetime('2011-02-16')).property('to',datetime('2013-09-17')).\n",
    "   addV('Job').property(id,'j-3').property('from',datetime('2013-11-21')).property('to',datetime('2016-03-23')).\n",
    "   addV('Job').property(id,'j-4').property('from',datetime('2015-02-02')).property('to',datetime('2018-02-08')).\n",
    "   addV('Job').property(id,'j-5').property('from',datetime('2011-07-15')).property('to',datetime('2017-10-14')).\n",
    "   addV('Job').property(id,'j-6').property('from',datetime('2012-03-23')).property('to',datetime('2013-11-01')).\n",
    "   V('r-1').addE('PARENT_ROLE').to(V('r-2')).\n",
    "   V('r-2').addE('PARENT_ROLE').to(V('r-3')).\n",
    "   V('r-4').addE('PARENT_ROLE').to(V('r-5')).\n",
    "   V('c-1').addE('LOCATION').to(V('l-1')).\n",
    "   V('c-1').addE('LOCATION').to(V('l-2')).\n",
    "   V('c-2').addE('LOCATION').to(V('l-3')). \n",
    "   V('p-1').addE('JOB').to(V('j-1')).\n",
    "   V('j-1').addE('ROLE').to(V('r-3')).\n",
    "   V('j-1').addE('COMPANY').to(V('c-1')).\n",
    "   V('j-1').addE('LOCATION').to(V('l-1')).                            \n",
    "   V('p-2').addE('JOB').to(V('j-2')).\n",
    "   V('j-2').addE('ROLE').to(V('r-2')).\n",
    "   V('j-2').addE('COMPANY').to(V('c-1')).\n",
    "   V('j-2').addE('LOCATION').to(V('l-2')).                            \n",
    "   V('p-3').addE('JOB').to(V('j-3')).\n",
    "   V('j-3').addE('ROLE').to(V('r-1')).\n",
    "   V('j-3').addE('COMPANY').to(V('c-1')).\n",
    "   V('j-3').addE('LOCATION').to(V('l-1')).\n",
    "   V('p-4').addE('JOB').to(V('j-4')).\n",
    "   V('j-4').addE('ROLE').to(V('r-1')).\n",
    "   V('j-4').addE('COMPANY').to(V('c-1')).\n",
    "   V('j-4').addE('LOCATION').to(V('l-2')).                              \n",
    "   V('p-5').addE('JOB').to(V('j-5')).\n",
    "   V('j-5').addE('ROLE').to(V('r-5')).\n",
    "   V('j-5').addE('COMPANY').to(V('c-2')).\n",
    "   V('j-5').addE('LOCATION').to(V('l-3')).\n",
    "   V('p-3').addE('JOB').to(V('j-6')).\n",
    "   V('j-6').addE('ROLE').to(V('r-4')).\n",
    "   V('j-6').addE('COMPANY').to(V('c-2')).\n",
    "   V('j-6').addE('LOCATION').to(V('l-3'))"
   ]
  },
  {
   "cell_type": "markdown",
   "metadata": {},
   "source": [
    "### Querying the data\n",
    "\n",
    "#### Query 3 – Who were in senior roles at the companies where Li worked?\n",
    "\n",
    "To answer this question, we'll have to perform the following steps:\n",
    "\n",
    "\n",
    "    1. Start at the Person's vertex\n",
    "    2. Follow JOB and ROLE edges to Roles\n",
    "    3. Traverse up Role hierarchy\n",
    "    4. For each parent Role:\n",
    "        - Get associated Jobs\n",
    "        - Filter Jobs by date\n",
    "        - Get Role and Person details for each Job"
   ]
  },
  {
   "cell_type": "code",
   "execution_count": null,
   "metadata": {},
   "outputs": [],
   "source": [
    "%%gremlin -p v,oute,inv\n",
    "g.V('p-3').\n",
    "    out('JOB').as('li').\n",
    "    out('ROLE').\n",
    "    repeat(out('PARENT_ROLE')).until(outE().count().is(0)).\n",
    "    in('ROLE').as('supervisor').\n",
    "    or_(\n",
    "        where('li', between('supervisor','supervisor')).by('from').by('from').by('to'),\n",
    "        where('li', between('supervisor','supervisor')).by('to').by('from').by('to'),\n",
    "        where('li', lte('supervisor').and(gt('supervisor'))).by('from').by('from').by('to').by('from')\n",
    "    ).\n",
    "        project('person','senior_role').\n",
    "        by(in('JOB').values('firstName','lastName').fold()).\n",
    "        by(out('ROLE').values('name').fold())"
   ]
  },
  {
   "cell_type": "markdown",
   "metadata": {},
   "source": [
    "Clean up."
   ]
  },
  {
   "cell_type": "code",
   "execution_count": null,
   "metadata": {},
   "outputs": [],
   "source": [
    "%%gremlin\n",
    "g.V().hasLabel('Person').drop()"
   ]
  },
  {
   "cell_type": "code",
   "execution_count": null,
   "metadata": {},
   "outputs": [],
   "source": [
    "%%gremlin\n",
    "g.V().hasLabel('Company').drop()"
   ]
  },
  {
   "cell_type": "code",
   "execution_count": null,
   "metadata": {},
   "outputs": [],
   "source": [
    "%%gremlin\n",
    "g.V().hasLabel('Job').drop()"
   ]
  },
  {
   "cell_type": "code",
   "execution_count": null,
   "metadata": {},
   "outputs": [],
   "source": [
    "%%gremlin\n",
    "g.V().hasLabel('Location').drop()"
   ]
  },
  {
   "cell_type": "code",
   "execution_count": null,
   "metadata": {},
   "outputs": [],
   "source": [
    "%%gremlin\n",
    "g.V().hasLabel('Role').drop()"
   ]
  },
  {
   "cell_type": "markdown",
   "metadata": {},
   "source": [
    "## References\n",
    "\n",
    "1. https://github.com/aws-samples/amazon-neptune-samples/tree/master/gremlin/property-graph-data-modelling"
   ]
  }
 ],
 "metadata": {
  "kernelspec": {
   "display_name": "Python 3",
   "language": "python",
   "name": "python3"
  },
  "language_info": {
   "codemirror_mode": {
    "name": "ipython",
    "version": 3
   },
   "file_extension": ".py",
   "mimetype": "text/x-python",
   "name": "python",
   "nbconvert_exporter": "python",
   "pygments_lexer": "ipython3",
   "version": "3.7.8"
  }
 },
 "nbformat": 4,
 "nbformat_minor": 4
}
